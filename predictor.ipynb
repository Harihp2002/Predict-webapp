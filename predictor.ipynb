{
 "cells": [
  {
   "cell_type": "code",
   "execution_count": null,
   "id": "a452c9e9",
   "metadata": {},
   "outputs": [
    {
     "name": "stdout",
     "output_type": "stream",
     "text": [
      "[0.92693346]\n",
      " * Serving Flask app \"__main__\" (lazy loading)\n",
      " * Environment: production\n",
      "   WARNING: This is a development server. Do not use it in a production deployment.\n",
      "   Use a production WSGI server instead.\n",
      " * Debug mode: off\n"
     ]
    },
    {
     "name": "stderr",
     "output_type": "stream",
     "text": [
      " * Running on http://127.0.0.1:5000/ (Press CTRL+C to quit)\n",
      "127.0.0.1 - - [27/Mar/2023 22:42:21] \"\u001b[37mGET / HTTP/1.1\u001b[0m\" 200 -\n",
      "127.0.0.1 - - [27/Mar/2023 22:42:22] \"\u001b[37mGET /static/css/style.css HTTP/1.1\u001b[0m\" 200 -\n",
      "127.0.0.1 - - [27/Mar/2023 22:43:22] \"\u001b[37mGET /predict?gre=337&toefl=118&uni_rating=4&sop=4.5&lor=4.5&cgpa=9.65&research=1 HTTP/1.1\u001b[0m\" 200 -\n"
     ]
    }
   ],
   "source": [
    "import numpy as np\n",
    "import model\n",
    "from flask import Flask, request, render_template\n",
    "import pickle\n",
    "\n",
    "app = Flask(__name__,template_folder=\"templates\")\n",
    "model = pickle.load(open('model.pkl', 'rb'))\n",
    "\n",
    "@app.route('/')\n",
    "def home():\n",
    "    return render_template('index.html')\n",
    "\n",
    "@app.route('/predict',methods=['GET'])\n",
    "def predict():\n",
    "    \n",
    "    gre = request.args.get('gre')\n",
    "    toefl = request.args.get('toefl')\n",
    "    uni_rating = request.args.get('uni_rating')\n",
    "    sop = request.args.get('sop')\n",
    "    lor = request.args.get('lor')\n",
    "    cgpa = request.args.get('cgpa')\n",
    "    res = request.args.get('research')\n",
    "    if(res=='Yes' or res=='yes' or res=='YES' or res=='y' or res=='Y' or res=='yES' or res=='YEs' or res=='yEs' or res=='YeS'):\n",
    "        research = '1'\n",
    "    else:\n",
    "        research = '0'\n",
    "    arr = np.array([gre, toefl, uni_rating, sop, lor, cgpa, research])\n",
    "    brr = np.asarray(arr, dtype=float)\n",
    "    output = model.predict([brr])\n",
    "    out = output[0]*100\n",
    "    return render_template('out.html', output=out)\n",
    "\n",
    "if __name__ == \"__main__\":\n",
    "    app.run(debug=False)"
   ]
  },
  {
   "cell_type": "code",
   "execution_count": null,
   "id": "25c28397",
   "metadata": {},
   "outputs": [],
   "source": []
  }
 ],
 "metadata": {
  "kernelspec": {
   "display_name": "Python 3",
   "language": "python",
   "name": "python3"
  },
  "language_info": {
   "codemirror_mode": {
    "name": "ipython",
    "version": 3
   },
   "file_extension": ".py",
   "mimetype": "text/x-python",
   "name": "python",
   "nbconvert_exporter": "python",
   "pygments_lexer": "ipython3",
   "version": "3.8.8"
  }
 },
 "nbformat": 4,
 "nbformat_minor": 5
}
